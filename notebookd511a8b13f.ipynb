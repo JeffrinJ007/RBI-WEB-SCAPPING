{
 "cells": [
  {
   "cell_type": "code",
   "execution_count": 1,
   "id": "f4036253",
   "metadata": {
    "_cell_guid": "b1076dfc-b9ad-4769-8c92-a6c4dae69d19",
    "_uuid": "8f2839f25d086af736a60e9eeb907d3b93b6e0e5",
    "execution": {
     "iopub.execute_input": "2023-07-12T14:17:18.697809Z",
     "iopub.status.busy": "2023-07-12T14:17:18.697344Z",
     "iopub.status.idle": "2023-07-12T14:17:18.712012Z",
     "shell.execute_reply": "2023-07-12T14:17:18.710710Z"
    },
    "papermill": {
     "duration": 0.0222,
     "end_time": "2023-07-12T14:17:18.714721",
     "exception": false,
     "start_time": "2023-07-12T14:17:18.692521",
     "status": "completed"
    },
    "tags": []
   },
   "outputs": [],
   "source": [
    "# This Python 3 environment comes with many helpful analytics libraries installed\n",
    "# It is defined by the kaggle/python Docker image: https://github.com/kaggle/docker-python\n",
    "# For example, here's several helpful packages to load\n",
    "\n",
    "import numpy as np # linear algebra\n",
    "import pandas as pd # data processing, CSV file I/O (e.g. pd.read_csv)\n",
    "\n",
    "# Input data files are available in the read-only \"../input/\" directory\n",
    "# For example, running this (by clicking run or pressing Shift+Enter) will list all files under the input directory\n",
    "\n",
    "import os\n",
    "for dirname, _, filenames in os.walk('/kaggle/input'):\n",
    "    for filename in filenames:\n",
    "        print(os.path.join(dirname, filename))\n",
    "\n",
    "# You can write up to 20GB to the current directory (/kaggle/working/) that gets preserved as output when you create a version using \"Save & Run All\" \n",
    "# You can also write temporary files to /kaggle/temp/, but they won't be saved outside of the current session"
   ]
  },
  {
   "cell_type": "code",
   "execution_count": 2,
   "id": "ee57c6e0",
   "metadata": {
    "execution": {
     "iopub.execute_input": "2023-07-12T14:17:18.721587Z",
     "iopub.status.busy": "2023-07-12T14:17:18.721166Z",
     "iopub.status.idle": "2023-07-12T14:17:33.355069Z",
     "shell.execute_reply": "2023-07-12T14:17:33.352439Z"
    },
    "papermill": {
     "duration": 14.64072,
     "end_time": "2023-07-12T14:17:33.357962",
     "exception": false,
     "start_time": "2023-07-12T14:17:18.717242",
     "status": "completed"
    },
    "tags": []
   },
   "outputs": [
    {
     "name": "stdout",
     "output_type": "stream",
     "text": [
      "https://rbidocs.rbi.org.in/rdocs/ATM/DOCs/ATMAICSAPRIL2022DCE60947F453408BB0B9B12FC25B4FB3.XLSX\n",
      "https://rbidocs.rbi.org.in/rdocs/ATM/PDFs/ATMAICSAPRIL2022DCE60947F453408BB0B9B12FC25B4FB3.PDF\n",
      "https://rbidocs.rbi.org.in/rdocs/ATM/DOCs/ATM24062022B1682B16A8DE46F9A4EF93B1A45F4483.XLSX\n",
      "https://rbidocs.rbi.org.in/rdocs/ATM/PDFs/ATM24062022B1682B16A8DE46F9A4EF93B1A45F4483.PDF\n",
      "https://rbidocs.rbi.org.in/rdocs/ATM/DOCs/ATMJUNE2022609740452711440CA003589C4F9CA184.XLSX\n",
      "https://rbidocs.rbi.org.in/rdocs/ATM/PDFs/ATMJUNE2022609740452711440CA003589C4F9CA184.PDF\n",
      "https://rbidocs.rbi.org.in/rdocs/ATM/DOCs/ATMJULY20224C14FCD4FB824FF88D5F00BD92FF64C7.XLSX\n",
      "https://rbidocs.rbi.org.in/rdocs/ATM/PDFs/ATMJULY20224C14FCD4FB824FF88D5F00BD92FF64C7.PDF\n",
      "https://rbidocs.rbi.org.in/rdocs/ATM/DOCs/ATMAUGUST20222A25E249961C42F5B5AD54F25F2FC9FD.XLSX\n",
      "https://rbidocs.rbi.org.in/rdocs/ATM/PDFs/ATMAUGUST20222A25E249961C42F5B5AD54F25F2FC9FD.PDF\n",
      "https://rbidocs.rbi.org.in/rdocs/ATM/DOCs/ATMSEPT2022757FCD4121974841840DF3A80AA9B5F0.XLSX\n",
      "https://rbidocs.rbi.org.in/rdocs/ATM/PDFs/ATMSEPT2022757FCD4121974841840DF3A80AA9B5F0.PDF\n",
      "https://rbidocs.rbi.org.in/rdocs/ATM/DOCs/ATMOCTOBER202268A5EE9DC3C8404D931EEED487A22380.XLSX\n",
      "https://rbidocs.rbi.org.in/rdocs/ATM/PDFs/ATMOCTOBER202268A5EE9DC3C8404D931EEED487A22380.PDF\n",
      "https://rbidocs.rbi.org.in/rdocs/ATM/DOCs/ATMNOVEMBER202258C819A62B7A4E62A5CD18B89722B406.XLSX\n",
      "https://rbidocs.rbi.org.in/rdocs/ATM/PDFs/ATMNOVEMBER202258C819A62B7A4E62A5CD18B89722B406.PDF\n",
      "https://rbidocs.rbi.org.in/rdocs/ATM/DOCs/ATMDECEMBER2022CFA6547F8B7F4CAD9711F84B0FDA47B4.XLSX\n",
      "https://rbidocs.rbi.org.in/rdocs/ATM/PDFs/ATMDECEMBER2022CFA6547F8B7F4CAD9711F84B0FDA47B4.PDF\n",
      "https://rbidocs.rbi.org.in/rdocs/ATM/DOCs/01ATM202390AF58B0729E4A70A0665091361E142A.XLSX\n",
      "https://rbidocs.rbi.org.in/rdocs/ATM/PDFs/01ATM202390AF58B0729E4A70A0665091361E142A.PDF\n",
      "https://rbidocs.rbi.org.in/rdocs/ATM/DOCs/ATMCARDSFEBRUARY23338AEF0694164CA3A9699D81995BBD86.XLSX\n",
      "https://rbidocs.rbi.org.in/rdocs/ATM/PDFs/ATMCARDSFEBRUARY23338AEF0694164CA3A9699D81995BBD86.PDF\n",
      "https://rbidocs.rbi.org.in/rdocs/ATM/DOCs/ATMCARDSMARCH2326696F4AA2574B6FBA44619F2E06D710.XLSX\n",
      "https://rbidocs.rbi.org.in/rdocs/ATM/PDFs/ATMCARDSMARCH2326696F4AA2574B6FBA44619F2E06D710.PDF\n"
     ]
    }
   ],
   "source": [
    "import requests\n",
    "import pandas as pd\n",
    "from bs4 import BeautifulSoup\n",
    "\n",
    "start_url = \"https://www.rbi.org.in/Scripts/ATMView.aspx?atmid=\"\n",
    "end_url_id = 134\n",
    "for each_url in range(1,13):\n",
    "    url = start_url + str(end_url_id)\n",
    "    r = requests.get(url)\n",
    "    # print(r)\n",
    "\n",
    "    bsoup = BeautifulSoup(r.text, \"lxml\")\n",
    "    table = bsoup.find(\"table\", class_=\"tablebg\")\n",
    "    links = table.find_all(\"a\")\n",
    "    for link in links:\n",
    "        address = link[\"href\"]\n",
    "        print(address)\n",
    "    end_url_id = int(end_url_id) + 1"
   ]
  },
  {
   "cell_type": "code",
   "execution_count": null,
   "id": "6ebc34bb",
   "metadata": {
    "papermill": {
     "duration": 0.003129,
     "end_time": "2023-07-12T14:17:33.364739",
     "exception": false,
     "start_time": "2023-07-12T14:17:33.361610",
     "status": "completed"
    },
    "tags": []
   },
   "outputs": [],
   "source": []
  }
 ],
 "metadata": {
  "kernelspec": {
   "display_name": "Python 3",
   "language": "python",
   "name": "python3"
  },
  "language_info": {
   "codemirror_mode": {
    "name": "ipython",
    "version": 3
   },
   "file_extension": ".py",
   "mimetype": "text/x-python",
   "name": "python",
   "nbconvert_exporter": "python",
   "pygments_lexer": "ipython3",
   "version": "3.10.12"
  },
  "papermill": {
   "default_parameters": {},
   "duration": 28.57342,
   "end_time": "2023-07-12T14:17:34.695855",
   "environment_variables": {},
   "exception": null,
   "input_path": "__notebook__.ipynb",
   "output_path": "__notebook__.ipynb",
   "parameters": {},
   "start_time": "2023-07-12T14:17:06.122435",
   "version": "2.4.0"
  }
 },
 "nbformat": 4,
 "nbformat_minor": 5
}
